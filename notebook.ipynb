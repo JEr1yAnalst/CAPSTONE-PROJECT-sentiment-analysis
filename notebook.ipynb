{
 "cells": [
  {
   "cell_type": "markdown",
   "metadata": {},
   "source": [
    "##  SENTIMENT ANALYSIS FOR KENYA AIRWAYS\n",
    "\n",
    "###  AUTHORS\n",
    "\n",
    "* Winfred Kinya\n",
    "* Jeremiah Waiguru\n",
    "* Paul Ngatia\n",
    "* Mercy Kiragu"
   ]
  },
  {
   "cell_type": "markdown",
   "metadata": {},
   "source": [
    "##  1.0  PROJECT OVERVIEW\n",
    "\n",
    "This project is focused on analyzing customer reviews of Kenya Airways to extract meaningful insights regarding customer satisfaction and service quality. By utilizing sentiment analysis techniques, the project will classify these reviews into positive, negative, or neutral sentiments. The goal is to help Kenya Airways identify areas of excellence as well as aspects of their service that may require improvement. This analysis will serve as a foundation for enhancing customer experience and driving operational improvements."
   ]
  },
  {
   "cell_type": "markdown",
   "metadata": {},
   "source": [
    "##  1.1  BUSINESS UNDERSTANDING\n",
    "\n",
    "In the competitive aviation industry, customer satisfaction plays a vital role in shaping the reputation and success of an airline. Kenya Airways, like many airlines, receives numerous reviews from passengers, which contain valuable feedback about their experiences. Understanding the sentiments behind these reviews is essential for identifying strengths and weaknesses in service delivery. This project will leverage sentiment analysis to process and analyze customer feedback, enabling Kenya Airways to make informed decisions that enhance passenger satisfaction and loyalty."
   ]
  },
  {
   "cell_type": "markdown",
   "metadata": {},
   "source": [
    "##  1.2  PROBLEM STATEMENT\n",
    "\n",
    "Kenya Airways is challenged by the vast amount of unstructured customer feedback available through online reviews. Without an efficient method to analyze this feedback, the airline may overlook critical insights that could lead to service improvements. This project aims to address this challenge by systematically analyzing the sentiment of customer reviews, providing Kenya Airways with a clear understanding of customer perceptions and identifying key areas that require attention."
   ]
  },
  {
   "cell_type": "markdown",
   "metadata": {},
   "source": [
    "##  1.3  OBJECTIVES\n",
    "\n",
    "### Primary objective\n",
    "\n",
    "To develop a robust sentiment analysis model that accurately classifies customer reviews of Kenya Airways into positive, negative, or neutral sentiments.\n",
    "\n",
    "###  Specific objectives\n",
    "\n",
    "1. To explore the sentiment distribution across different customer demographics, travel classes, and time periods.\n",
    "2. To identify recurring themes and specific aspects of service (e.g., customer service, punctuality, in-flight experience) that are frequently mentioned in the reviews.\n",
    "3. To assess the performance of various sentiment analysis models and determine the most effective model for this dataset.\n",
    "4. To generate actionable insights from the sentiment analysis that can be used by Kenya Airways to improve customer service and address common issues"
   ]
  },
  {
   "cell_type": "markdown",
   "metadata": {},
   "source": [
    "##  2.0  DATA UNDERSTANDING\n",
    "\n",
    "We did Web Scraping from the 3 websites below and merged our datasets\n",
    "\n",
    "1. https://uk.trustpilot.com/review/www.kenya-airways.com\n",
    "2. https://www.airlinequality.com/airline-reviews/kenya-airways/\n",
    "3. https://www.airlineratings.com/airlines/kenya-airways\n",
    "\n",
    "The dataset has 3065 rows and 5 columns with the following description ;\n",
    "\n",
    "* Departures: This column indicates the departure region or type of flight, such as \"Africa\" or \"International.\"\n",
    "* Class: This column specifies the class of travel, such as \"Economy\" or \"Business Class.\"\n",
    "* Review: This column contains customer reviews of their experiences with Kenya Airways. The text data may include opinions, complaints, and compliments about the airline.\n",
    "* Rating: This column contains the numeric rating provided by the customer, typically ranging from 1.0 to 5.0, where 1.0 represents \"Poor\" and 5.0 represents \"Excellent.\"\n",
    "* Rating_description: This column provides a textual description corresponding to the numeric rating, such as \"Poor,\" \"Good,\" or \"Excellent.\""
   ]
  },
  {
   "cell_type": "markdown",
   "metadata": {},
   "source": [
    "## Importing Necessary Libraries"
   ]
  },
  {
   "cell_type": "code",
   "execution_count": 58,
   "metadata": {},
   "outputs": [
    {
     "name": "stderr",
     "output_type": "stream",
     "text": [
      "[nltk_data] Downloading package stopwords to\n",
      "[nltk_data]     C:\\Users\\PC\\AppData\\Roaming\\nltk_data...\n",
      "[nltk_data]   Package stopwords is already up-to-date!\n",
      "[nltk_data] Downloading package punkt to\n",
      "[nltk_data]     C:\\Users\\PC\\AppData\\Roaming\\nltk_data...\n",
      "[nltk_data]   Package punkt is already up-to-date!\n",
      "[nltk_data] Downloading package averaged_perceptron_tagger to\n",
      "[nltk_data]     C:\\Users\\PC\\AppData\\Roaming\\nltk_data...\n",
      "[nltk_data]   Package averaged_perceptron_tagger is already up-to-\n",
      "[nltk_data]       date!\n",
      "[nltk_data] Downloading package wordnet to\n",
      "[nltk_data]     C:\\Users\\PC\\AppData\\Roaming\\nltk_data...\n",
      "[nltk_data]   Package wordnet is already up-to-date!\n",
      "[nltk_data] Downloading package vader_lexicon to\n",
      "[nltk_data]     C:\\Users\\PC\\AppData\\Roaming\\nltk_data...\n",
      "[nltk_data]   Package vader_lexicon is already up-to-date!\n"
     ]
    }
   ],
   "source": [
    "# importing libraries\n",
    "import pandas as pd\n",
    "import numpy as np\n",
    "import matplotlib.pyplot as plt\n",
    "%matplotlib inline\n",
    "plt.style.use(\"fivethirtyeight\")\n",
    "import seaborn as sns\n",
    "import plotly.express as px \n",
    "import re\n",
    "import string\n",
    "import joblib\n",
    "\n",
    "# ignore warnings\n",
    "import warnings\n",
    "warnings.filterwarnings(\"ignore\")\n",
    "\n",
    "from sklearn.metrics import precision_score, accuracy_score, recall_score, f1_score, classification_report\n",
    "from sklearn.model_selection import train_test_split, GridSearchCV, cross_val_score\n",
    "from sklearn.ensemble import RandomForestClassifier\n",
    "from sklearn.naive_bayes import GaussianNB\n",
    "from sklearn.tree import DecisionTreeClassifier\n",
    "from sklearn.feature_extraction.text import TfidfVectorizer\n",
    "from wordcloud import WordCloud \n",
    "from sklearn.metrics import roc_curve, auc\n",
    "\n",
    "#downloading dependencies\n",
    "import nltk\n",
    "nltk.download('stopwords')\n",
    "nltk.download('punkt')\n",
    "nltk.download('averaged_perceptron_tagger')\n",
    "nltk.download('wordnet')\n",
    "nltk.download('vader_lexicon')\n",
    "\n",
    "from nltk.corpus import stopwords\n",
    "from nltk.sentiment.vader import SentimentIntensityAnalyzer\n",
    "from nltk.stem import SnowballStemmer\n",
    "from nltk.stem import WordNetLemmatizer\n",
    "from nltk import pos_tag\n",
    "from nltk.corpus import wordnet\n"
   ]
  },
  {
   "cell_type": "markdown",
   "metadata": {},
   "source": [
    "## 2. 1 Loading Datasets"
   ]
  },
  {
   "cell_type": "markdown",
   "metadata": {},
   "source": [
    "### 1.Dataset one"
   ]
  },
  {
   "cell_type": "code",
   "execution_count": 59,
   "metadata": {},
   "outputs": [
    {
     "data": {
      "text/html": [
       "<div>\n",
       "<style scoped>\n",
       "    .dataframe tbody tr th:only-of-type {\n",
       "        vertical-align: middle;\n",
       "    }\n",
       "\n",
       "    .dataframe tbody tr th {\n",
       "        vertical-align: top;\n",
       "    }\n",
       "\n",
       "    .dataframe thead th {\n",
       "        text-align: right;\n",
       "    }\n",
       "</style>\n",
       "<table border=\"1\" class=\"dataframe\">\n",
       "  <thead>\n",
       "    <tr style=\"text-align: right;\">\n",
       "      <th></th>\n",
       "      <th>Date3</th>\n",
       "      <th>Departures</th>\n",
       "      <th>Class</th>\n",
       "      <th>Review</th>\n",
       "      <th>Rating_Value</th>\n",
       "      <th>Rating_Description</th>\n",
       "    </tr>\n",
       "  </thead>\n",
       "  <tbody>\n",
       "    <tr>\n",
       "      <th>0</th>\n",
       "      <td>2022-09-01</td>\n",
       "      <td>Africa</td>\n",
       "      <td>Economy</td>\n",
       "      <td>Recently I travelled for business from Cape To...</td>\n",
       "      <td>4.0</td>\n",
       "      <td>Good</td>\n",
       "    </tr>\n",
       "    <tr>\n",
       "      <th>1</th>\n",
       "      <td>2022-11-01</td>\n",
       "      <td>International</td>\n",
       "      <td>Economy</td>\n",
       "      <td>I want to thanks to Jane for her excellent ser...</td>\n",
       "      <td>5.0</td>\n",
       "      <td>Excellent</td>\n",
       "    </tr>\n",
       "    <tr>\n",
       "      <th>2</th>\n",
       "      <td>2022-05-01</td>\n",
       "      <td>International</td>\n",
       "      <td>Economy</td>\n",
       "      <td>not a bad airline to fly with could do with a ...</td>\n",
       "      <td>4.0</td>\n",
       "      <td>Good</td>\n",
       "    </tr>\n",
       "    <tr>\n",
       "      <th>3</th>\n",
       "      <td>2022-11-01</td>\n",
       "      <td>Africa</td>\n",
       "      <td>Business Class</td>\n",
       "      <td>Dear Kenya Airways ,\\r\\n\\r\\nI am on my way to ...</td>\n",
       "      <td>1.0</td>\n",
       "      <td>Poor</td>\n",
       "    </tr>\n",
       "    <tr>\n",
       "      <th>4</th>\n",
       "      <td>2022-11-01</td>\n",
       "      <td>Africa</td>\n",
       "      <td>Economy</td>\n",
       "      <td>Absolutely appalling airline, never ever use i...</td>\n",
       "      <td>1.0</td>\n",
       "      <td>Poor</td>\n",
       "    </tr>\n",
       "  </tbody>\n",
       "</table>\n",
       "</div>"
      ],
      "text/plain": [
       "        Date3     Departures           Class  \\\n",
       "0  2022-09-01         Africa         Economy   \n",
       "1  2022-11-01  International         Economy   \n",
       "2  2022-05-01  International         Economy   \n",
       "3  2022-11-01         Africa  Business Class   \n",
       "4  2022-11-01         Africa         Economy   \n",
       "\n",
       "                                              Review  Rating_Value  \\\n",
       "0  Recently I travelled for business from Cape To...           4.0   \n",
       "1  I want to thanks to Jane for her excellent ser...           5.0   \n",
       "2  not a bad airline to fly with could do with a ...           4.0   \n",
       "3  Dear Kenya Airways ,\\r\\n\\r\\nI am on my way to ...           1.0   \n",
       "4  Absolutely appalling airline, never ever use i...           1.0   \n",
       "\n",
       "  Rating_Description  \n",
       "0               Good  \n",
       "1          Excellent  \n",
       "2               Good  \n",
       "3               Poor  \n",
       "4               Poor  "
      ]
     },
     "execution_count": 59,
     "metadata": {},
     "output_type": "execute_result"
    }
   ],
   "source": [
    "#Kenya_airways_flights\n",
    "df = pd.read_csv('Refined data/Dataset_one.csv')\n",
    "df.head()"
   ]
  },
  {
   "cell_type": "code",
   "execution_count": 60,
   "metadata": {},
   "outputs": [
    {
     "name": "stdout",
     "output_type": "stream",
     "text": [
      "Column Names:\n",
      "Index(['Date3', 'Departures', 'Class', 'Review', 'Rating_Value',\n",
      "       'Rating_Description'],\n",
      "      dtype='object')\n",
      "\n",
      "Shape:\n",
      "(2345, 6)\n"
     ]
    }
   ],
   "source": [
    "def describe_columns(df):\n",
    "    # Print column names\n",
    "    print(\"Column Names:\")\n",
    "    print(df.columns)\n",
    "\n",
    "    # Print number of rows and columns\n",
    "    print(\"\\nShape:\")\n",
    "    print(df.shape)\n",
    "\n",
    "describe_columns(df)"
   ]
  },
  {
   "cell_type": "markdown",
   "metadata": {},
   "source": [
    "The Dataset has 2345 rows and 6 columns.\n",
    "The other columns are categorical or text-based."
   ]
  },
  {
   "cell_type": "markdown",
   "metadata": {},
   "source": [
    "### 2.Dataset two"
   ]
  },
  {
   "cell_type": "code",
   "execution_count": 61,
   "metadata": {},
   "outputs": [
    {
     "data": {
      "text/html": [
       "<div>\n",
       "<style scoped>\n",
       "    .dataframe tbody tr th:only-of-type {\n",
       "        vertical-align: middle;\n",
       "    }\n",
       "\n",
       "    .dataframe tbody tr th {\n",
       "        vertical-align: top;\n",
       "    }\n",
       "\n",
       "    .dataframe thead th {\n",
       "        text-align: right;\n",
       "    }\n",
       "</style>\n",
       "<table border=\"1\" class=\"dataframe\">\n",
       "  <thead>\n",
       "    <tr style=\"text-align: right;\">\n",
       "      <th></th>\n",
       "      <th>Date3</th>\n",
       "      <th>Review</th>\n",
       "    </tr>\n",
       "  </thead>\n",
       "  <tbody>\n",
       "    <tr>\n",
       "      <th>0</th>\n",
       "      <td>2024-02-24</td>\n",
       "      <td>✅ Trip Verified | I have never seen such a dis...</td>\n",
       "    </tr>\n",
       "    <tr>\n",
       "      <th>1</th>\n",
       "      <td>2024-02-24</td>\n",
       "      <td>Not Verified |   Bumped off flight at boarding...</td>\n",
       "    </tr>\n",
       "    <tr>\n",
       "      <th>2</th>\n",
       "      <td>2024-07-30</td>\n",
       "      <td>✅ Trip Verified |   I am disappointment with t...</td>\n",
       "    </tr>\n",
       "    <tr>\n",
       "      <th>3</th>\n",
       "      <td>2024-07-25</td>\n",
       "      <td>✅ Trip Verified |  This airline is becoming mo...</td>\n",
       "    </tr>\n",
       "    <tr>\n",
       "      <th>4</th>\n",
       "      <td>2024-07-24</td>\n",
       "      <td>✅ Trip Verified |  3 out of 4 flights delayed ...</td>\n",
       "    </tr>\n",
       "  </tbody>\n",
       "</table>\n",
       "</div>"
      ],
      "text/plain": [
       "        Date3                                             Review\n",
       "0  2024-02-24  ✅ Trip Verified | I have never seen such a dis...\n",
       "1  2024-02-24  Not Verified |   Bumped off flight at boarding...\n",
       "2  2024-07-30  ✅ Trip Verified |   I am disappointment with t...\n",
       "3  2024-07-25  ✅ Trip Verified |  This airline is becoming mo...\n",
       "4  2024-07-24  ✅ Trip Verified |  3 out of 4 flights delayed ..."
      ]
     },
     "execution_count": 61,
     "metadata": {},
     "output_type": "execute_result"
    }
   ],
   "source": [
    "#Kenya_airways_reviews\n",
    "df = pd.read_csv('Refined data/Dataset_two.csv')\n",
    "df.head()"
   ]
  },
  {
   "cell_type": "code",
   "execution_count": 62,
   "metadata": {},
   "outputs": [
    {
     "name": "stdout",
     "output_type": "stream",
     "text": [
      "Column Names:\n",
      "Index(['Date3', 'Review'], dtype='object')\n",
      "\n",
      "Shape:\n",
      "(477, 2)\n"
     ]
    }
   ],
   "source": [
    "def describe_columns(df):\n",
    "    # Print column names\n",
    "    print(\"Column Names:\")\n",
    "    print(df.columns)\n",
    "\n",
    "    # Print number of rows and columns \n",
    "    print(\"\\nShape:\")\n",
    "    print(df.shape)\n",
    "\n",
    "describe_columns(df)"
   ]
  },
  {
   "cell_type": "markdown",
   "metadata": {},
   "source": [
    "The Dataset has 477 rows and 2 columns."
   ]
  },
  {
   "cell_type": "markdown",
   "metadata": {},
   "source": [
    "### 3.Dataset three"
   ]
  },
  {
   "cell_type": "code",
   "execution_count": 63,
   "metadata": {},
   "outputs": [
    {
     "data": {
      "text/html": [
       "<div>\n",
       "<style scoped>\n",
       "    .dataframe tbody tr th:only-of-type {\n",
       "        vertical-align: middle;\n",
       "    }\n",
       "\n",
       "    .dataframe tbody tr th {\n",
       "        vertical-align: top;\n",
       "    }\n",
       "\n",
       "    .dataframe thead th {\n",
       "        text-align: right;\n",
       "    }\n",
       "</style>\n",
       "<table border=\"1\" class=\"dataframe\">\n",
       "  <thead>\n",
       "    <tr style=\"text-align: right;\">\n",
       "      <th></th>\n",
       "      <th>Date3</th>\n",
       "      <th>Rating</th>\n",
       "      <th>Review</th>\n",
       "    </tr>\n",
       "  </thead>\n",
       "  <tbody>\n",
       "    <tr>\n",
       "      <th>0</th>\n",
       "      <td>02-08-2024</td>\n",
       "      <td>0.0</td>\n",
       "      <td>Constantly canceling flights Kenya airlines ca...</td>\n",
       "    </tr>\n",
       "    <tr>\n",
       "      <th>1</th>\n",
       "      <td>04-08-2024</td>\n",
       "      <td>0.0</td>\n",
       "      <td>Kenya Airways canceled the flight and… Kenya A...</td>\n",
       "    </tr>\n",
       "    <tr>\n",
       "      <th>2</th>\n",
       "      <td>30-07-2024</td>\n",
       "      <td>0.0</td>\n",
       "      <td>If your thinking of Kenya Airlines...think aga...</td>\n",
       "    </tr>\n",
       "    <tr>\n",
       "      <th>3</th>\n",
       "      <td>29-07-2024</td>\n",
       "      <td>0.0</td>\n",
       "      <td>Worst airlines ever Worst airlines ever, not f...</td>\n",
       "    </tr>\n",
       "    <tr>\n",
       "      <th>4</th>\n",
       "      <td>25-07-2024</td>\n",
       "      <td>0.0</td>\n",
       "      <td>We were trying to go to Nampula from Nairobi a...</td>\n",
       "    </tr>\n",
       "  </tbody>\n",
       "</table>\n",
       "</div>"
      ],
      "text/plain": [
       "        Date3  Rating                                             Review\n",
       "0  02-08-2024     0.0  Constantly canceling flights Kenya airlines ca...\n",
       "1  04-08-2024     0.0  Kenya Airways canceled the flight and… Kenya A...\n",
       "2  30-07-2024     0.0  If your thinking of Kenya Airlines...think aga...\n",
       "3  29-07-2024     0.0  Worst airlines ever Worst airlines ever, not f...\n",
       "4  25-07-2024     0.0  We were trying to go to Nampula from Nairobi a..."
      ]
     },
     "execution_count": 63,
     "metadata": {},
     "output_type": "execute_result"
    }
   ],
   "source": [
    "# KQ_reviews\n",
    "df = pd.read_csv('Refined data/Dataset_three.csv')\n",
    "df.head()"
   ]
  },
  {
   "cell_type": "code",
   "execution_count": 64,
   "metadata": {},
   "outputs": [
    {
     "name": "stdout",
     "output_type": "stream",
     "text": [
      "Column Names:\n",
      "Index(['Date3', 'Rating', 'Review'], dtype='object')\n",
      "\n",
      "Shape:\n",
      "(243, 3)\n"
     ]
    }
   ],
   "source": [
    "def describe_columns(df):\n",
    "    # Print column names\n",
    "    print(\"Column Names:\")\n",
    "    print(df.columns)\n",
    "\n",
    "    # Print number of rows and columns \n",
    "    print(\"\\nShape:\")\n",
    "    print(df.shape)\n",
    "\n",
    "describe_columns(df)"
   ]
  },
  {
   "cell_type": "markdown",
   "metadata": {},
   "source": [
    "The Dataset has 243 rows and 3 columns.Mainly, 'Date', 'Rating and 'Review'"
   ]
  },
  {
   "cell_type": "markdown",
   "metadata": {},
   "source": [
    "## Loading the Merged Dataset"
   ]
  },
  {
   "cell_type": "code",
   "execution_count": 65,
   "metadata": {},
   "outputs": [
    {
     "data": {
      "text/html": [
       "<div>\n",
       "<style scoped>\n",
       "    .dataframe tbody tr th:only-of-type {\n",
       "        vertical-align: middle;\n",
       "    }\n",
       "\n",
       "    .dataframe tbody tr th {\n",
       "        vertical-align: top;\n",
       "    }\n",
       "\n",
       "    .dataframe thead th {\n",
       "        text-align: right;\n",
       "    }\n",
       "</style>\n",
       "<table border=\"1\" class=\"dataframe\">\n",
       "  <thead>\n",
       "    <tr style=\"text-align: right;\">\n",
       "      <th></th>\n",
       "      <th>Date3</th>\n",
       "      <th>Departures</th>\n",
       "      <th>Class</th>\n",
       "      <th>Review</th>\n",
       "      <th>Rating</th>\n",
       "      <th>Rating_Description</th>\n",
       "    </tr>\n",
       "  </thead>\n",
       "  <tbody>\n",
       "    <tr>\n",
       "      <th>0</th>\n",
       "      <td>2022-09-01 00:00:00</td>\n",
       "      <td>Africa</td>\n",
       "      <td>Economy</td>\n",
       "      <td>Recently I travelled for business from Cape To...</td>\n",
       "      <td>4.0</td>\n",
       "      <td>Good</td>\n",
       "    </tr>\n",
       "    <tr>\n",
       "      <th>1</th>\n",
       "      <td>2022-11-01 00:00:00</td>\n",
       "      <td>International</td>\n",
       "      <td>Economy</td>\n",
       "      <td>I want to thanks to Jane for her excellent ser...</td>\n",
       "      <td>5.0</td>\n",
       "      <td>Excellent</td>\n",
       "    </tr>\n",
       "    <tr>\n",
       "      <th>2</th>\n",
       "      <td>2022-05-01 00:00:00</td>\n",
       "      <td>International</td>\n",
       "      <td>Economy</td>\n",
       "      <td>not a bad airline to fly with could do with a ...</td>\n",
       "      <td>4.0</td>\n",
       "      <td>Good</td>\n",
       "    </tr>\n",
       "    <tr>\n",
       "      <th>3</th>\n",
       "      <td>2022-11-01 00:00:00</td>\n",
       "      <td>Africa</td>\n",
       "      <td>Business Class</td>\n",
       "      <td>Dear Kenya Airways ,\\r\\n\\r\\nI am on my way to ...</td>\n",
       "      <td>1.0</td>\n",
       "      <td>Poor</td>\n",
       "    </tr>\n",
       "    <tr>\n",
       "      <th>4</th>\n",
       "      <td>2022-11-01 00:00:00</td>\n",
       "      <td>Africa</td>\n",
       "      <td>Economy</td>\n",
       "      <td>Absolutely appalling airline, never ever use i...</td>\n",
       "      <td>1.0</td>\n",
       "      <td>Poor</td>\n",
       "    </tr>\n",
       "    <tr>\n",
       "      <th>...</th>\n",
       "      <td>...</td>\n",
       "      <td>...</td>\n",
       "      <td>...</td>\n",
       "      <td>...</td>\n",
       "      <td>...</td>\n",
       "      <td>...</td>\n",
       "    </tr>\n",
       "    <tr>\n",
       "      <th>3060</th>\n",
       "      <td>26-01-2017</td>\n",
       "      <td>NaN</td>\n",
       "      <td>NaN</td>\n",
       "      <td>Better than I expected Much better service tha...</td>\n",
       "      <td>0.0</td>\n",
       "      <td>NaN</td>\n",
       "    </tr>\n",
       "    <tr>\n",
       "      <th>3061</th>\n",
       "      <td>30-08-2016</td>\n",
       "      <td>NaN</td>\n",
       "      <td>NaN</td>\n",
       "      <td>Request for immediate action. I have never had...</td>\n",
       "      <td>0.0</td>\n",
       "      <td>NaN</td>\n",
       "    </tr>\n",
       "    <tr>\n",
       "      <th>3062</th>\n",
       "      <td>02-07-2016</td>\n",
       "      <td>NaN</td>\n",
       "      <td>NaN</td>\n",
       "      <td>Never again Flew with Kenya airways last year ...</td>\n",
       "      <td>0.0</td>\n",
       "      <td>NaN</td>\n",
       "    </tr>\n",
       "    <tr>\n",
       "      <th>3063</th>\n",
       "      <td>21-11-2015</td>\n",
       "      <td>NaN</td>\n",
       "      <td>NaN</td>\n",
       "      <td>NEVER AGAIN - RUBISH COMPANY !!! We travelled ...</td>\n",
       "      <td>1.0</td>\n",
       "      <td>NaN</td>\n",
       "    </tr>\n",
       "    <tr>\n",
       "      <th>3064</th>\n",
       "      <td>02-07-2014</td>\n",
       "      <td>NaN</td>\n",
       "      <td>NaN</td>\n",
       "      <td>Worse Customer service ever!!! Will never ever...</td>\n",
       "      <td>0.0</td>\n",
       "      <td>NaN</td>\n",
       "    </tr>\n",
       "  </tbody>\n",
       "</table>\n",
       "<p>3065 rows × 6 columns</p>\n",
       "</div>"
      ],
      "text/plain": [
       "                    Date3     Departures           Class  \\\n",
       "0     2022-09-01 00:00:00         Africa         Economy   \n",
       "1     2022-11-01 00:00:00  International         Economy   \n",
       "2     2022-05-01 00:00:00  International         Economy   \n",
       "3     2022-11-01 00:00:00         Africa  Business Class   \n",
       "4     2022-11-01 00:00:00         Africa         Economy   \n",
       "...                   ...            ...             ...   \n",
       "3060           26-01-2017            NaN             NaN   \n",
       "3061           30-08-2016            NaN             NaN   \n",
       "3062           02-07-2016            NaN             NaN   \n",
       "3063           21-11-2015            NaN             NaN   \n",
       "3064           02-07-2014            NaN             NaN   \n",
       "\n",
       "                                                 Review  Rating  \\\n",
       "0     Recently I travelled for business from Cape To...     4.0   \n",
       "1     I want to thanks to Jane for her excellent ser...     5.0   \n",
       "2     not a bad airline to fly with could do with a ...     4.0   \n",
       "3     Dear Kenya Airways ,\\r\\n\\r\\nI am on my way to ...     1.0   \n",
       "4     Absolutely appalling airline, never ever use i...     1.0   \n",
       "...                                                 ...     ...   \n",
       "3060  Better than I expected Much better service tha...     0.0   \n",
       "3061  Request for immediate action. I have never had...     0.0   \n",
       "3062  Never again Flew with Kenya airways last year ...     0.0   \n",
       "3063  NEVER AGAIN - RUBISH COMPANY !!! We travelled ...     1.0   \n",
       "3064  Worse Customer service ever!!! Will never ever...     0.0   \n",
       "\n",
       "     Rating_Description  \n",
       "0                  Good  \n",
       "1             Excellent  \n",
       "2                  Good  \n",
       "3                  Poor  \n",
       "4                  Poor  \n",
       "...                 ...  \n",
       "3060                NaN  \n",
       "3061                NaN  \n",
       "3062                NaN  \n",
       "3063                NaN  \n",
       "3064                NaN  \n",
       "\n",
       "[3065 rows x 6 columns]"
      ]
     },
     "execution_count": 65,
     "metadata": {},
     "output_type": "execute_result"
    }
   ],
   "source": [
    "# KQ_Data\n",
    "df = pd.read_csv('Refined data/KQ_Data.csv')\n",
    "df"
   ]
  },
  {
   "cell_type": "code",
   "execution_count": 66,
   "metadata": {},
   "outputs": [
    {
     "name": "stdout",
     "output_type": "stream",
     "text": [
      "Column Names:\n",
      "Index(['Date3', 'Departures', 'Class', 'Review', 'Rating',\n",
      "       'Rating_Description'],\n",
      "      dtype='object')\n",
      "\n",
      "Data Types:\n",
      "Date3                  object\n",
      "Departures             object\n",
      "Class                  object\n",
      "Review                 object\n",
      "Rating                float64\n",
      "Rating_Description     object\n",
      "dtype: object\n",
      "\n",
      "Shape:\n",
      "(3065, 6)\n",
      "\n",
      "Info:\n",
      "<class 'pandas.core.frame.DataFrame'>\n",
      "RangeIndex: 3065 entries, 0 to 3064\n",
      "Data columns (total 6 columns):\n",
      " #   Column              Non-Null Count  Dtype  \n",
      "---  ------              --------------  -----  \n",
      " 0   Date3               3063 non-null   object \n",
      " 1   Departures          2345 non-null   object \n",
      " 2   Class               2345 non-null   object \n",
      " 3   Review              3065 non-null   object \n",
      " 4   Rating              2578 non-null   float64\n",
      " 5   Rating_Description  2345 non-null   object \n",
      "dtypes: float64(1), object(5)\n",
      "memory usage: 143.8+ KB\n",
      "None\n",
      "\n",
      "Descriptive Statistics:\n",
      "            Rating\n",
      "count  2578.000000\n",
      "mean      2.865012\n",
      "std       1.615916\n",
      "min       0.000000\n",
      "25%       1.000000\n",
      "50%       3.000000\n",
      "75%       4.000000\n",
      "max       5.000000\n",
      "\n",
      "Missing Values in percentages:\n",
      "Date3                  0.065253\n",
      "Departures            23.491028\n",
      "Class                 23.491028\n",
      "Review                 0.000000\n",
      "Rating                15.889070\n",
      "Rating_Description    23.491028\n",
      "dtype: float64\n"
     ]
    }
   ],
   "source": [
    "def describe_columns(df):\n",
    "    # Print column names\n",
    "    print(\"Column Names:\")\n",
    "    print(df.columns)\n",
    "\n",
    "    # Print data types\n",
    "    print(\"\\nData Types:\")\n",
    "    print(df.dtypes)\n",
    "\n",
    "    # Print number of rows and columns\n",
    "    print(\"\\nShape:\")\n",
    "    print(df.shape)\n",
    "\n",
    "    # Print df information\n",
    "    print(\"\\nInfo:\")\n",
    "    print(df.info())\n",
    "\n",
    "    # Print descriptive statistics for numerical columns\n",
    "    print(\"\\nDescriptive Statistics:\")\n",
    "    print(df.describe())\n",
    "\n",
    "    # Print missing values count per column\n",
    "    print(\"\\nMissing Values in percentages:\")\n",
    "    print((df.isna().sum()/len(df)) * 100)\n",
    "\n",
    "describe_columns(df)"
   ]
  },
  {
   "cell_type": "markdown",
   "metadata": {},
   "source": [
    "The dataset has 3065 rows and 6 columns. It also has missing values, with some columns registering aproximately 90%. This will be dealt with at the preprocessing stage. From our data overview, the Review column needs preprocessing since it contains raw text with numbers,nametags, emojis and punctuations."
   ]
  },
  {
   "cell_type": "code",
   "execution_count": null,
   "metadata": {},
   "outputs": [],
   "source": []
  }
 ],
 "metadata": {
  "kernelspec": {
   "display_name": "Python (learn-env)",
   "language": "python",
   "name": "learn-env"
  },
  "language_info": {
   "codemirror_mode": {
    "name": "ipython",
    "version": 3
   },
   "file_extension": ".py",
   "mimetype": "text/x-python",
   "name": "python",
   "nbconvert_exporter": "python",
   "pygments_lexer": "ipython3",
   "version": "3.11.5"
  }
 },
 "nbformat": 4,
 "nbformat_minor": 2
}
